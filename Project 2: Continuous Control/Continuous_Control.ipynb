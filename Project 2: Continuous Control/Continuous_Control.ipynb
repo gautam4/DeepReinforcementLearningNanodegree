{
 "cells": [
  {
   "cell_type": "markdown",
   "metadata": {},
   "source": [
    "# Continuous Control\n",
    "\n",
    "---\n",
    "\n",
    "You are welcome to use this coding environment to train your agent for the project.  Follow the instructions below to get started!\n",
    "\n",
    "### 1. Start the Environment\n",
    "\n",
    "Run the next code cell to install a few packages.  This line will take a few minutes to run!"
   ]
  },
  {
   "cell_type": "code",
   "execution_count": 1,
   "metadata": {},
   "outputs": [
    {
     "name": "stdout",
     "output_type": "stream",
     "text": [
      "\u001b[31mtensorflow 1.7.1 has requirement numpy>=1.13.3, but you'll have numpy 1.12.1 which is incompatible.\u001b[0m\n",
      "\u001b[31mipython 6.5.0 has requirement prompt-toolkit<2.0.0,>=1.0.15, but you'll have prompt-toolkit 2.0.9 which is incompatible.\u001b[0m\n",
      "Python Installed\n"
     ]
    }
   ],
   "source": [
    "!pip -q install ./python\n",
    "print(\"Python Installed\")"
   ]
  },
  {
   "cell_type": "markdown",
   "metadata": {},
   "source": [
    "The environments corresponding to both versions of the environment are already saved in the Workspace and can be accessed at the file paths provided below.  \n",
    "\n",
    "Please select one of the two options below for loading the environment."
   ]
  },
  {
   "cell_type": "code",
   "execution_count": 2,
   "metadata": {},
   "outputs": [
    {
     "name": "stderr",
     "output_type": "stream",
     "text": [
      "INFO:unityagents:\n",
      "'Academy' started successfully!\n",
      "Unity Academy name: Academy\n",
      "        Number of Brains: 1\n",
      "        Number of External Brains : 1\n",
      "        Lesson number : 0\n",
      "        Reset Parameters :\n",
      "\t\tgoal_size -> 5.0\n",
      "\t\tgoal_speed -> 1.0\n",
      "Unity brain name: ReacherBrain\n",
      "        Number of Visual Observations (per agent): 0\n",
      "        Vector Observation space type: continuous\n",
      "        Vector Observation space size (per agent): 33\n",
      "        Number of stacked Vector Observation: 1\n",
      "        Vector Action space type: continuous\n",
      "        Vector Action space size (per agent): 4\n",
      "        Vector Action descriptions: , , , \n"
     ]
    }
   ],
   "source": [
    "from unityagents import UnityEnvironment\n",
    "import numpy as np\n",
    "\n",
    "# select this option to load version 1 (with a single agent) of the environment\n",
    "env = UnityEnvironment(file_name='/data/Reacher_One_Linux_NoVis/Reacher_One_Linux_NoVis.x86_64')\n",
    "\n",
    "# select this option to load version 2 (with 20 agents) of the environment\n",
    "#env = UnityEnvironment(file_name='/data/Reacher_Linux_NoVis/Reacher.x86_64')"
   ]
  },
  {
   "cell_type": "markdown",
   "metadata": {},
   "source": [
    "Environments contain **_brains_** which are responsible for deciding the actions of their associated agents. Here we check for the first brain available, and set it as the default brain we will be controlling from Python."
   ]
  },
  {
   "cell_type": "code",
   "execution_count": 3,
   "metadata": {},
   "outputs": [
    {
     "name": "stdout",
     "output_type": "stream",
     "text": [
      "The default brain has been identified\n"
     ]
    }
   ],
   "source": [
    "# get the default brain\n",
    "brain_name = env.brain_names[0]\n",
    "brain = env.brains[brain_name]\n",
    "print(\"The default brain has been identified\")"
   ]
  },
  {
   "cell_type": "markdown",
   "metadata": {},
   "source": [
    "### 2. Examine the State and Action Spaces\n",
    "\n",
    "Run the code cell below to print some information about the environment."
   ]
  },
  {
   "cell_type": "code",
   "execution_count": 4,
   "metadata": {},
   "outputs": [
    {
     "name": "stdout",
     "output_type": "stream",
     "text": [
      "Number of agents: 1\n",
      "Size of each action: 4\n",
      "There are 1 agents. Each observes a state with length: 33\n",
      "The state for the first agent looks like: [  0.00000000e+00  -4.00000000e+00   0.00000000e+00   1.00000000e+00\n",
      "  -0.00000000e+00  -0.00000000e+00  -4.37113883e-08   0.00000000e+00\n",
      "   0.00000000e+00   0.00000000e+00   0.00000000e+00   0.00000000e+00\n",
      "   0.00000000e+00   0.00000000e+00  -1.00000000e+01   0.00000000e+00\n",
      "   1.00000000e+00  -0.00000000e+00  -0.00000000e+00  -4.37113883e-08\n",
      "   0.00000000e+00   0.00000000e+00   0.00000000e+00   0.00000000e+00\n",
      "   0.00000000e+00   0.00000000e+00   5.75471878e+00  -1.00000000e+00\n",
      "   5.55726671e+00   0.00000000e+00   1.00000000e+00   0.00000000e+00\n",
      "  -1.68164849e-01]\n"
     ]
    }
   ],
   "source": [
    "# reset the environment\n",
    "env_info = env.reset(train_mode=True)[brain_name]\n",
    "\n",
    "# number of agents\n",
    "num_agents = len(env_info.agents)\n",
    "print('Number of agents:', num_agents)\n",
    "\n",
    "# size of each action\n",
    "action_size = brain.vector_action_space_size\n",
    "print('Size of each action:', action_size)\n",
    "\n",
    "# examine the state space \n",
    "states = env_info.vector_observations\n",
    "state_size = states.shape[1]\n",
    "print('There are {} agents. Each observes a state with length: {}'.format(states.shape[0], state_size))\n",
    "print('The state for the first agent looks like:', states[0])"
   ]
  },
  {
   "cell_type": "markdown",
   "metadata": {},
   "source": [
    "### 3. Take Random Actions in the Environment\n",
    "\n",
    "In the next code cell, you will learn how to use the Python API to control the agent and receive feedback from the environment.\n",
    "\n",
    "Note that **in this coding environment, you will not be able to watch the agents while they are training**, and you should set `train_mode=True` to restart the environment."
   ]
  },
  {
   "cell_type": "code",
   "execution_count": 5,
   "metadata": {},
   "outputs": [
    {
     "name": "stdout",
     "output_type": "stream",
     "text": [
      "Total score (averaged over agents) this episode: 0.1099999975413084\n"
     ]
    }
   ],
   "source": [
    "env_info = env.reset(train_mode=True)[brain_name]      # reset the environment    \n",
    "states = env_info.vector_observations                  # get the current state (for each agent)\n",
    "scores = np.zeros(num_agents)                          # initialize the score (for each agent)\n",
    "while True:\n",
    "    actions = np.random.randn(num_agents, action_size) # select an action (for each agent)\n",
    "    actions = np.clip(actions, -1, 1)                  # all actions between -1 and 1\n",
    "    env_info = env.step(actions)[brain_name]           # send all actions to tne environment\n",
    "    next_states = env_info.vector_observations         # get next state (for each agent)\n",
    "    rewards = env_info.rewards                         # get reward (for each agent)\n",
    "    dones = env_info.local_done                        # see if episode finished\n",
    "    scores += env_info.rewards                         # update the score (for each agent)\n",
    "    states = next_states                               # roll over states to next time step\n",
    "    if np.any(dones):                                  # exit loop if episode finished\n",
    "        break\n",
    "print('Total score (averaged over agents) this episode: {}'.format(np.mean(scores)))"
   ]
  },
  {
   "cell_type": "markdown",
   "metadata": {},
   "source": [
    "When finished, you can close the environment."
   ]
  },
  {
   "cell_type": "code",
   "execution_count": null,
   "metadata": {},
   "outputs": [],
   "source": [
    "#env.close()"
   ]
  },
  {
   "cell_type": "markdown",
   "metadata": {},
   "source": [
    "### 4. It's Your Turn!\n",
    "\n",
    "Now it's your turn to train your own agent to solve the environment!  A few **important notes**:\n",
    "- When training the environment, set `train_mode=True`, so that the line for resetting the environment looks like the following:\n",
    "```python\n",
    "env_info = env.reset(train_mode=True)[brain_name]\n",
    "```\n",
    "- To structure your work, you're welcome to work directly in this Jupyter notebook, or you might like to start over with a new file!  You can see the list of files in the workspace by clicking on **_Jupyter_** in the top left corner of the notebook.\n",
    "- In this coding environment, you will not be able to watch the agents while they are training.  However, **_after training the agents_**, you can download the saved model weights to watch the agents on your own machine! "
   ]
  },
  {
   "cell_type": "code",
   "execution_count": 6,
   "metadata": {},
   "outputs": [
    {
     "name": "stdout",
     "output_type": "stream",
     "text": [
      "The Actor and Critic have been created\n"
     ]
    }
   ],
   "source": [
    "#Define the Actor and the Critic\n",
    "import torch\n",
    "import torch.nn as nn\n",
    "import torch.nn.functional as F\n",
    "\n",
    "def hidden_init(layer):\n",
    "    fan_in = layer.weight.data.size()[0]\n",
    "    lim=1./np.sqrt(fan_in)\n",
    "    return(-lim,lim)\n",
    "\n",
    "class Actor(nn.Module):\n",
    "    def __init__(self,state_size,action_size,seed,fc1_units=330,fc2_units=110):\n",
    "        #Initializes the actor neural network\n",
    "        super(Actor,self).__init__()\n",
    "        self.seed=torch.manual_seed(seed)\n",
    "        self.fc1=nn.Linear(state_size,fc1_units)\n",
    "        self.fc2=nn.Linear(fc1_units,fc2_units)\n",
    "        self.fc3=nn.Linear(fc2_units,action_size)\n",
    "        self.reset_parameters()\n",
    "    def reset_parameters(self):\n",
    "        #Resets network weights using a set of placeholder values\n",
    "        self.fc1.weight.data.uniform_(*hidden_init(self.fc1))\n",
    "        self.fc2.weight.data.uniform_(*hidden_init(self.fc2))\n",
    "        self.fc3.weight.data.uniform_(-3e-3,3e-3)\n",
    "        \n",
    "    def forward(self,state):\n",
    "        #Forward propogation of state input through the network\n",
    "        x=F.relu(self.fc1(state))\n",
    "        x=F.relu(self.fc2(x))\n",
    "        return F.tanh(self.fc3(x))\n",
    "    \n",
    "class Critic(nn.Module):\n",
    "    def __init__(self,state_size,action_size,seed,fc1_units=330,fc2_units=110):\n",
    "        #Initializes the critic neural network\n",
    "        super(Critic,self).__init__()\n",
    "        self.seed= torch.manual_seed(seed)\n",
    "        self.fc1 = nn.Linear(state_size,fc1_units)\n",
    "        self.fc2 = nn.Linear(fc1_units+action_size,fc2_units)\n",
    "        self.fc3 = nn.Linear(fc2_units,1)\n",
    "        self.reset_parameters()\n",
    "    def reset_parameters(self):\n",
    "        #Resets the network parameters using placeholder values\n",
    "        self.fc1.weight.data.uniform_(*hidden_init(self.fc1))\n",
    "        self.fc2.weight.data.uniform_(*hidden_init(self.fc2))\n",
    "        self.fc3.weight.data.uniform_(-3e-3,3e-3)\n",
    "    def forward(self,state,action):\n",
    "        #Forward propogation of state and action input through the network\n",
    "        x = F.relu(self.fc1(state))\n",
    "        x = torch.cat((x,action),dim=1)\n",
    "        x = F.relu(self.fc2(x))\n",
    "        return self.fc3(x)\n",
    "\n",
    "\n",
    "print(\"The Actor and Critic have been created\")"
   ]
  },
  {
   "cell_type": "code",
   "execution_count": 7,
   "metadata": {},
   "outputs": [
    {
     "name": "stdout",
     "output_type": "stream",
     "text": [
      "The DDPG agent has been defined\n"
     ]
    }
   ],
   "source": [
    "#Define the DDPG Agent\n",
    "\n",
    "from collections import namedtuple,deque\n",
    "import copy\n",
    "import random\n",
    "import torch.nn.functional as F\n",
    "import torch\n",
    "import torch.optim as optim\n",
    "from matplotlib import pyplot as plt\n",
    "\n",
    "BUFFER_SIZE=int(1e5)\n",
    "BATCH_SIZE=512\n",
    "GAMMA=0.99\n",
    "TAU=1e-3\n",
    "LR_ACTOR=1e-3\n",
    "LR_CRITIC=1e-3\n",
    "WEIGHT_DECAY=0\n",
    "UPDATE_EVERY = 20\n",
    "\n",
    "#Check GPU availability\n",
    "device = torch.device(\"cuda:0\" if torch.cuda.is_available() else \"cpu\")\n",
    "\n",
    "\n",
    "#Define the DDPG Agent\n",
    "class DDPGAgent():\n",
    "    def __init__(self,state_size,action_size,random_seed):\n",
    "        #Initializes the neural network\n",
    "        self.state_size=state_size\n",
    "        self.action_size=action_size\n",
    "        self.seed=random.seed(random_seed)\n",
    "        \n",
    "        #Actor Networks(A target and a local network)\n",
    "        self.actor_local=Actor(state_size,action_size,random_seed).to(device)\n",
    "        self.actor_target=Actor(state_size,action_size,random_seed).to(device) \n",
    "        self.actor_optimizer=optim.Adam(self.actor_local.parameters(), lr=LR_ACTOR)\n",
    "        \n",
    "        #Critic Networks(A target and local network)\n",
    "        self.critic_local=Critic(state_size, action_size, random_seed).to(device)\n",
    "        self.critic_target=Critic(state_size, action_size, random_seed).to(device)\n",
    "        self.critic_optimizer=optim.Adam(self.critic_local.parameters(),lr=LR_CRITIC, weight_decay = WEIGHT_DECAY)\n",
    "        \n",
    "        #NoiseProcess\n",
    "        self.noise = OUNoise(action_size, random_seed)\n",
    "        \n",
    "        #Replay memory buffer\n",
    "        self.memory = ReplayBuffer(action_size,BUFFER_SIZE,BATCH_SIZE,random_seed)\n",
    "        #A timestep count to allow for updating the networks at intervals\n",
    "        self.t_step= 0\n",
    "        \n",
    "    def step(self,state,action,reward,next_state,done):\n",
    "        #Save the experience tuple and learn/update network if at a timestep that \n",
    "        #     is a multiple of the UPDATE_EVERY variable\n",
    "        self.memory.add(state,action,reward,next_state,done)\n",
    "        #Learn, if enough samples available in memory(N>batch_size)\n",
    "        self.t_step = (self.t_step+1)%UPDATE_EVERY\n",
    "        if self.t_step== 0:\n",
    "            if len(self.memory) > BATCH_SIZE:\n",
    "                experiences = self.memory.sample()\n",
    "                self.learn(experiences,GAMMA)\n",
    "                    \n",
    "    def act(self,state,add_noise):\n",
    "        #Use the state input to decide on an action. If in the early episodes(n_episodes<300), noise \n",
    "        #    is added to the action to encourage exploration. \n",
    "        state=torch.from_numpy(state).float().to(device)\n",
    "        self.actor_local.eval()\n",
    "        with torch.no_grad():\n",
    "            action=self.actor_local(state).cpu().data.numpy()\n",
    "        self.actor_local.train()\n",
    "        if add_noise:\n",
    "            action +=self.noise.sample()\n",
    "        return np.clip(action,-1,1)\n",
    "    \n",
    "    def reset(self):\n",
    "        #reset the noise parameter\n",
    "        self.noise.reset()\n",
    "        \n",
    "    def learn(self,experiences,gamma):\n",
    "        #Update the network by learning from a batch of experience trajectories.\n",
    "        states,actions,rewards,next_states,dones=experiences\n",
    "        \n",
    "        #Update the Critic network\n",
    "        #Get predicted next state actions and Q values from target models\n",
    "        actions_next=self.actor_target(next_states)\n",
    "        Q_targets_next=self.critic_target(next_states,actions_next)\n",
    "        #Compute Q Targets for current state\n",
    "        Q_targets = rewards+(gamma*Q_targets_next*(1-dones))\n",
    "        #Compute critic loss\n",
    "        Q_expected = self.critic_local(states,actions)\n",
    "        critic_loss = F.mse_loss(Q_expected,Q_targets)\n",
    "        #Minimize the loss\n",
    "        self.critic_optimizer.zero_grad()\n",
    "        critic_loss.backward()\n",
    "        torch.nn.utils.clip_grad_norm_(self.critic_local.parameters(),1)\n",
    "        self.critic_optimizer.step()\n",
    "        \n",
    "        #Update the Actor network\n",
    "        #Compute Actor Loss\n",
    "        actions_pred=self.actor_local(states)\n",
    "        actor_loss = -self.critic_local(states,actions_pred).mean()\n",
    "        #Minimize the loss\n",
    "        self.actor_optimizer.zero_grad()\n",
    "        actor_loss.backward()\n",
    "        torch.nn.utils.clip_grad_norm_(self.actor_local.parameters(),1)\n",
    "        self.actor_optimizer.step()\n",
    "        \n",
    "        #Update Actor and Critic Target Networks\n",
    "        self.soft_update(self.critic_local,self.critic_target,TAU)\n",
    "        self.soft_update(self.actor_local,self.actor_target,TAU)\n",
    "    \n",
    "    def soft_update(self,local_model,target_model,tau):\n",
    "        #Soft update the model weights\n",
    "        for target_param, local_param in zip(target_model.parameters(), local_model.parameters()):\n",
    "            target_param.data.copy_(tau*local_param.data+(1.0-tau)*target_param.data)\n",
    "\n",
    "class OUNoise:\n",
    "    #An Ornstein-Uhlenbeck process used to add noise to selected actions to allow for exploration in the environment\n",
    "    def __init__(self,size,seed,mu=0.0,theta=0.15,sigma=0.2):\n",
    "        #Initializes the noise process\n",
    "        self.mu=mu*np.ones(size)\n",
    "        self.theta=theta\n",
    "        self.sigma=sigma\n",
    "        self.seed=random.seed(seed)\n",
    "        self.reset()\n",
    "    def reset(self):\n",
    "        #Resets the noise process\n",
    "        self.state=copy.copy(self.mu)\n",
    "    def sample(self):\n",
    "        #Calculates and produces a noise value\n",
    "        x=self.state\n",
    "        dx=self.theta*(self.mu-x)+self.sigma*np.array([random.random() for i in range(len(x))])\n",
    "        self.state=x+dx\n",
    "        return self.state\n",
    "\n",
    "\n",
    "class ReplayBuffer:\n",
    "    #Creates a memory buffer to store experiences to learn from\n",
    "    def __init__(self,action_size,buffer_size,batch_size,seed):\n",
    "        #Initializes the memory buffer\n",
    "        self.action_size=action_size\n",
    "        self.memory=deque(maxlen=buffer_size)\n",
    "        self.batch_size=batch_size\n",
    "        self.experience=namedtuple(\"Experience\",field_names=[\"state\",\"action\",\"reward\",\"next_state\",\"done\"])\n",
    "        self.seed=random.seed(seed)\n",
    "    def add(self,state,action,reward,next_state,done):\n",
    "        #Add an experience trajectory to the memory buffer\n",
    "        e=self.experience(state,action,reward,next_state,done)\n",
    "        self.memory.append(e)\n",
    "    def sample(self):\n",
    "        #Sample from the buffer and return a batch of trajectories\n",
    "        random.seed(2)\n",
    "        experiences = random.sample(self.memory,k=self.batch_size)\n",
    "        \n",
    "        states = torch.from_numpy(np.vstack([e.state for e in experiences if e is not None])).float().to(device)\n",
    "        actions = torch.from_numpy(np.vstack([e.action for e in experiences if e is not None])).float().to(device)\n",
    "        rewards = torch.from_numpy(np.vstack([e.reward for e in experiences if e is not None])).float().to(device)\n",
    "        next_states=torch.from_numpy(np.vstack(e.next_state for e in experiences if e is not None)).float().to(device)\n",
    "        dones=torch.from_numpy(np.vstack([e.done for e in experiences if e is not None]).astype(np.uint8)).float().to(device)\n",
    "        return (states,actions,rewards,next_states,dones)\n",
    "    def __len__(self):\n",
    "        #Return the length of the memory buffer\n",
    "        return len(self.memory)\n",
    "        \n",
    "        \n",
    "print(\"The DDPG agent has been defined\")"
   ]
  },
  {
   "cell_type": "code",
   "execution_count": 10,
   "metadata": {},
   "outputs": [
    {
     "name": "stdout",
     "output_type": "stream",
     "text": [
      "Episode 100\tAverage Score: 0.6808999847806994\n",
      "Episode 200\tAverage Score: 1.29789997098967444\n",
      "Episode 300\tAverage Score: 2.00319995522499183\n",
      "Episode 400\tAverage Score: 5.5223998765647415\n",
      "Episode 500\tAverage Score: 10.152799773067237\n",
      "Episode 600\tAverage Score: 15.826399646252394\n",
      "Episode 700\tAverage Score: 28.059699372816836\n",
      "Episode 738\tAverage Score: 33.339999254792938\n",
      "Environment solved in 638 episodes!\tAverage Score: 30.028799328804016\n"
     ]
    },
    {
     "data": {
      "image/png": "[encoded data removed]",
      "text/plain": [
       "<matplotlib.figure.Figure at 0x7f985517ef98>"
      ]
     },
     "metadata": {
      "needs_background": "light"
     },
     "output_type": "display_data"
    }
   ],
   "source": [
    "\n",
    "#Set the random seed\n",
    "random_seed=2\n",
    "#Create the Arm Agent \n",
    "ArmAgent = DDPGAgent(state_size=33, action_size=4,random_seed=2)\n",
    "\n",
    "\n",
    "#Define the DDPG algorithm to train the agent\n",
    "def ddpg(n_episodes=1500,max_t=1200,print_every=100):\n",
    "    scores_deque = deque(maxlen=print_every)\n",
    "    scoreList=[]    \n",
    "    for i_episode in range(1,n_episodes+1):\n",
    "        env_info = env.reset(train_mode=True)[brain_name]\n",
    "        states = env_info.vector_observations\n",
    "        ArmAgent.reset()\n",
    "        scores=np.zeros(num_agents)\n",
    "        for t in range(max_t):\n",
    "            #If the episode number is less than 300, add noise to explore environment\n",
    "            if i_episode < 300:\n",
    "                action = ArmAgent.act(states, True)\n",
    "            else:\n",
    "                action = ArmAgent.act(states,False)\n",
    "            env_info = env.step(action)[brain_name]\n",
    "            next_states = env_info.vector_observations\n",
    "            rewards = env_info.rewards\n",
    "            dones = env_info.local_done\n",
    "            ArmAgent.step(states,action,rewards,next_states,dones)\n",
    "            scores += env_info.rewards\n",
    "            states = next_states\n",
    "            if np.any(dones):\n",
    "                break\n",
    "        scores_deque.append(np.mean(scores))    \n",
    "        scoreList.append(np.mean(scores))\n",
    "        print('\\rEpisode {}\\tAverage Score: {}'.format(i_episode,np.mean(scores)),end=\"\")\n",
    "        if i_episode %print_every ==0:\n",
    "            print('\\rEpisode {}\\tAverage Score: {}'.format(i_episode, np.mean(scores_deque)))\n",
    "        if np.mean(scores_deque)>=30:\n",
    "            print('\\nEnvironment solved in {:d} episodes!\\tAverage Score: {}'.format(i_episode-100,np.mean(scores_deque)))\n",
    "            torch.save(ArmAgent.actor_local.state_dict(), 'continuousControlcheckpoint_actor_local.pth')\n",
    "            torch.save(ArmAgent.actor_target.state_dict(),'continuousControlcheckpoint_actor_target.pth')\n",
    "            torch.save(ArmAgent.critic_local.state_dict(), 'continuousControlcheckpoint_critic_local.pth')\n",
    "            torch.save(ArmAgent.critic_target.state_dict(), 'continuousControlcheckpoint_critic_target.pth')\n",
    "            break\n",
    "            \n",
    "            \n",
    "            \n",
    "            \n",
    "            \n",
    "            \n",
    "            \n",
    "        \n",
    "    return scoreList\n",
    "\n",
    "scoreList = ddpg()\n",
    "\n",
    "fig = plt.figure()\n",
    "ax = fig.add_subplot(111)\n",
    "plt.plot(np.arange(1, len(scoreList)+1), scoreList)\n",
    "plt.ylabel('Score')\n",
    "plt.xlabel('Episode #')\n",
    "plt.show()\n",
    "            \n"
   ]
  },
  {
   "cell_type": "code",
   "execution_count": null,
   "metadata": {},
   "outputs": [],
   "source": []
  }
 ],
 "metadata": {
  "kernelspec": {
   "display_name": "Python 3",
   "language": "python",
   "name": "python3"
  },
  "language_info": {
   "codemirror_mode": {
    "name": "ipython",
    "version": 3
   },
   "file_extension": ".py",
   "mimetype": "text/x-python",
   "name": "python",
   "nbconvert_exporter": "python",
   "pygments_lexer": "ipython3",
   "version": "3.6.3"
  }
 },
 "nbformat": 4,
 "nbformat_minor": 2
}
